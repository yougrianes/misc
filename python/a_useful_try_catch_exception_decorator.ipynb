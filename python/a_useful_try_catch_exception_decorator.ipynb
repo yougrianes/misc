{
 "cells": [
  {
   "attachments": {},
   "cell_type": "markdown",
   "metadata": {},
   "source": [
    "# python小技巧：一个简单好用的用于抓取异常的decorator\n",
    "\n",
    "写了一个提升工作效率的python的代码装饰器。\n",
    "\n",
    "事情的背景是这样的：准备为当前流水线上提交一段功能代码，由于流水线为了保证不被代码可能的运行时错误而导致流水线失败，所以流水线本身采取了抓取异常日志但不抛出的设计（我从实际调试的现象来估计是这样的）。但是，由于每次都要线上验证功能正确性，如果没有一个有效的日志的话，就很麻烦。而且问题定位的时候很痛苦，因为流水线构建需要时间和重复的劳动，很耗费青春很痛苦。\n",
    "\n",
    "而且，由于日志和报错栈被流水线的异常机制屏蔽掉了，每次流水线报错，只报出实际出错的位置，而不能够有效的显示这个出错的位置是在哪里被调用的，以及嵌套调用的关系。如果用打断点的方式一点点定位问题，这个时间开销太恐怖了。\n",
    "\n",
    "于是写了一个简单的装饰器，但是好用。首先这个函数可以简单的表达函数的一个执行状态：执行中，成功或者失败（只要大家统一用相同的装饰器，那么日志上就很统一）。此外，由于装饰器的效果可以作用于函数嵌套，所以如果函数内部调用的子方法抛出了异常，那这个调用关系也能从日志中追踪，很高效。\n",
    "\n",
    "最近的工作感悟：人之所以是人类的一个很大的里程碑是学会制造工具并且复用工具。如果可以的话，将流程自动化。重复劳动是一种罪孽。工具化，制度化，流程化，最后自动化。\n",
    "\n",
    "额，闲话不多说了。下面是装饰器实现："
   ]
  },
  {
   "cell_type": "code",
   "execution_count": 7,
   "metadata": {},
   "outputs": [],
   "source": [
    "from loguru import logger\n",
    "from func_timeout import func_set_timeout, func_timeout, FunctionTimedOut\n",
    "\n",
    "def try_and_catch_exception(func):\n",
    "    def wrapper(*args, **kwargs):\n",
    "        logger.info(f\"{func.__name__}: start running\")\n",
    "        result = None\n",
    "        try:\n",
    "            result = func(*args, **kwargs)\n",
    "        except FunctionTimedOut as e:\n",
    "            err_info = f\"{func.__name__}: run timeout! info: {{ {e} }} \"\n",
    "            logger.error(err_info)\n",
    "            raise RuntimeError(err_info)\n",
    "        except Exception as e:\n",
    "            err_info = f\"{func.__name__}: error occur! info: {{ {e} }} \"\n",
    "            logger.error(err_info)\n",
    "            raise RuntimeError(err_info)\n",
    "        else:\n",
    "            logger.info(f\"{func.__name__}: succeed\")\n",
    "            return result\n",
    "    return wrapper"
   ]
  },
  {
   "attachments": {},
   "cell_type": "markdown",
   "metadata": {},
   "source": [
    "下面是如何使用这个装饰器："
   ]
  },
  {
   "cell_type": "code",
   "execution_count": 8,
   "metadata": {},
   "outputs": [
    {
     "name": "stderr",
     "output_type": "stream",
     "text": [
      "2023-02-16 01:04:19.594 | INFO     | __main__:wrapper:6 - workwork: start running\n",
      "2023-02-16 01:04:19.596 | INFO     | __main__:wrapper:19 - workwork: succeed\n"
     ]
    },
    {
     "name": "stdout",
     "output_type": "stream",
     "text": [
      "result: 8\n"
     ]
    }
   ],
   "source": [
    "@try_and_catch_exception\n",
    "def workwork(input_a, input_b):\n",
    "    result = input_a * input_b\n",
    "    return result\n",
    "\n",
    "print(f\"result: {workwork(2,4)}\")"
   ]
  },
  {
   "cell_type": "code",
   "execution_count": 9,
   "metadata": {},
   "outputs": [
    {
     "name": "stderr",
     "output_type": "stream",
     "text": [
      "2023-02-16 01:04:19.691 | INFO     | __main__:wrapper:6 - bad_workwork: start running\n",
      "2023-02-16 01:04:19.692 | ERROR    | __main__:wrapper:16 - bad_workwork: error occur! info: { division by zero } \n"
     ]
    },
    {
     "name": "stdout",
     "output_type": "stream",
     "text": [
      "bad_workwork: error occur! info: { division by zero } \n"
     ]
    }
   ],
   "source": [
    "@try_and_catch_exception\n",
    "def bad_workwork(input_a, input_b):\n",
    "    result = input_a * input_b\n",
    "    wrong = 1 / 0\n",
    "    return result\n",
    "\n",
    "try:\n",
    "    print(f\"result: {bad_workwork(2,4)}\")\n",
    "except Exception as e:\n",
    "    print(e)"
   ]
  },
  {
   "attachments": {},
   "cell_type": "markdown",
   "metadata": {},
   "source": [
    "当存在多个函数嵌套的时候，我们可以有一个大致的定位方向（因为报错栈有时候打印的信息有点太多了，看起来有点头大）。比方说："
   ]
  },
  {
   "cell_type": "code",
   "execution_count": 10,
   "metadata": {},
   "outputs": [
    {
     "name": "stderr",
     "output_type": "stream",
     "text": [
      "2023-02-16 01:04:19.841 | INFO     | __main__:wrapper:6 - a_func_use_bad_workwork: start running\n",
      "2023-02-16 01:04:19.842 | INFO     | __main__:wrapper:6 - bad_workwork: start running\n",
      "2023-02-16 01:04:19.843 | ERROR    | __main__:wrapper:16 - bad_workwork: error occur! info: { division by zero } \n",
      "2023-02-16 01:04:19.844 | ERROR    | __main__:wrapper:16 - a_func_use_bad_workwork: error occur! info: { bad_workwork: error occur! info: { division by zero }  } \n",
      "2023-02-16 01:04:19.845 | ERROR    | __main__:<module>:9 - a_func_use_bad_workwork: error occur! info: { bad_workwork: error occur! info: { division by zero }  } \n"
     ]
    },
    {
     "name": "stdout",
     "output_type": "stream",
     "text": [
      "call bad_workwork...\n"
     ]
    }
   ],
   "source": [
    "@try_and_catch_exception\n",
    "def a_func_use_bad_workwork():\n",
    "    print(\"call bad_workwork...\")\n",
    "    print(f\"result: {bad_workwork(2,4)}\")\n",
    "\n",
    "try:\n",
    "    a_func_use_bad_workwork()\n",
    "except Exception as e:\n",
    "    logger.error(e)"
   ]
  },
  {
   "attachments": {},
   "cell_type": "markdown",
   "metadata": {},
   "source": [
    "我们可以看到日志中清楚的记录了有用的报错信息。在代码比较多的时候，有这样的一句话能够比较清楚的表达出报错的具体位置，以及出错位置和其他函数之间的调用关系，这对问题定位有很大帮助。"
   ]
  },
  {
   "attachments": {},
   "cell_type": "markdown",
   "metadata": {},
   "source": [
    "下面再展示一个代码超时的功能，也非常的好用："
   ]
  },
  {
   "cell_type": "code",
   "execution_count": 11,
   "metadata": {},
   "outputs": [
    {
     "name": "stderr",
     "output_type": "stream",
     "text": [
      "2023-02-16 01:04:19.958 | INFO     | __main__:wrapper:6 - work_10secs: start running\n"
     ]
    },
    {
     "name": "stdout",
     "output_type": "stream",
     "text": [
      "call work_10secs...\n"
     ]
    },
    {
     "name": "stderr",
     "output_type": "stream",
     "text": [
      "2023-02-16 01:04:25.074 | ERROR    | __main__:wrapper:12 - work_10secs: run timeout! info: { Function work_10secs (args=()) (kwargs={}) timed out after 5.000000 seconds.\n",
      " } \n",
      "2023-02-16 01:04:25.075 | ERROR    | __main__:<module>:13 - work_10secs: run timeout! info: { Function work_10secs (args=()) (kwargs={}) timed out after 5.000000 seconds.\n",
      " } \n"
     ]
    }
   ],
   "source": [
    "import time\n",
    "\n",
    "@try_and_catch_exception\n",
    "@func_set_timeout(5)    # timeout limit 5secs\n",
    "def work_10secs():\n",
    "    print(\"call work_10secs...\")\n",
    "    time.sleep(10)\n",
    "    return True\n",
    "\n",
    "try:\n",
    "    print(work_10secs())\n",
    "except Exception as e:\n",
    "    logger.error(e)"
   ]
  }
 ],
 "metadata": {
  "kernelspec": {
   "display_name": "Python 3",
   "language": "python",
   "name": "python3"
  },
  "language_info": {
   "codemirror_mode": {
    "name": "ipython",
    "version": 3
   },
   "file_extension": ".py",
   "mimetype": "text/x-python",
   "name": "python",
   "nbconvert_exporter": "python",
   "pygments_lexer": "ipython3",
   "version": "3.11.2"
  },
  "orig_nbformat": 4,
  "vscode": {
   "interpreter": {
    "hash": "ff4b1fca65a764b45acb559e482afe389d289dd599b9f8c5fd12ff5c2ea46a65"
   }
  }
 },
 "nbformat": 4,
 "nbformat_minor": 2
}
